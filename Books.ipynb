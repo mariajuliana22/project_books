{
 "cells": [
  {
   "cell_type": "markdown",
   "id": "2437d672",
   "metadata": {},
   "source": [
    "# Proyecto SQL / SQL Project\n",
    "El coronavirus tomó al mundo entero por sorpresa, cambiando la rutina diaria de todos y todas. Los habitantes de las ciudades ya no pasaban su tiempo libre fuera, yendo a cafés y centros comerciales; sino que más gente se quedaba en casa, leyendo libros. Eso atrajo la atención de las startups (empresas emergentes) que se apresuraron a desarrollar nuevas aplicaciones para los amantes de los libros.\n",
    "\n",
    "The coronavirus took the entire world by surprise, changing everyone's daily routines. City residents no longer spent their free time outside, going to cafés and shopping malls. Instead, more people stayed at home, reading books. This caught the attention of startups, which rushed to develop new applications for book lovers.\n",
    "\n",
    "Pasos a seguir para desarrollar el proyecto / Steps to develop the project:\n",
    "1. Describir los objetivos del estudio / Describe the study objectives.\n",
    "2. Estudiar las tablas / Study the tables.\n",
    "3. Realizar consultas SQL / SQL queries.\n",
    "4. Conclusiones / Conclusions."
   ]
  },
  {
   "cell_type": "markdown",
   "id": "d1d17f9a",
   "metadata": {},
   "source": [
    "## Objetivo del estudio / Study Objective\n",
    "Analizar la información dada para generar una propuesta de valor para un nuevo producto / Analyze the given information to generate a value proposition for a new product."
   ]
  },
  {
   "cell_type": "markdown",
   "id": "0b23812c",
   "metadata": {},
   "source": [
    "## Estudiar las tablas / Study the Tables"
   ]
  },
  {
   "cell_type": "code",
   "execution_count": 1,
   "id": "d597c5df",
   "metadata": {},
   "outputs": [],
   "source": [
    "# Importar librerías\n",
    "# Import libraries\n",
    "import pandas as pd\n",
    "from sqlalchemy import create_engine\n",
    "\n",
    "\n",
    "# Configuración de conexión\n",
    "# Connection Configuration\n",
    "db_config = {'user': 'practicum_student', # Nombre de usuario / Username\n",
    "             'pwd': 's65BlTKV3faNIGhmvJVzOqhs', # Contraseña / Password\n",
    "             'host': 'rc1b-wcoijxj3yxfsf3fs.mdb.yandexcloud.net',\n",
    "             'port': 6432, # Puerto de conexión / Connection port\n",
    "             'db': 'data-analyst-final-project-db'} # Nombre de la base de datos / Database name\n",
    "\n",
    "connection_string = 'postgresql://{}:{}@{}:{}/{}'.format(db_config['user'],\n",
    "                                                                     db_config['pwd'],\n",
    "                                                                       db_config['host'],\n",
    "                                                                       db_config['port'],\n",
    "                                                                       db_config['db'])\n",
    "\n",
    "engine = create_engine(connection_string, connect_args={'sslmode':'require'})"
   ]
  },
  {
   "cell_type": "markdown",
   "id": "fcb80a75",
   "metadata": {},
   "source": [
    "### `Books`"
   ]
  },
  {
   "cell_type": "code",
   "execution_count": 3,
   "id": "a1ae8682",
   "metadata": {},
   "outputs": [
    {
     "data": {
      "text/html": [
       "<div>\n",
       "<style scoped>\n",
       "    .dataframe tbody tr th:only-of-type {\n",
       "        vertical-align: middle;\n",
       "    }\n",
       "\n",
       "    .dataframe tbody tr th {\n",
       "        vertical-align: top;\n",
       "    }\n",
       "\n",
       "    .dataframe thead th {\n",
       "        text-align: right;\n",
       "    }\n",
       "</style>\n",
       "<table border=\"1\" class=\"dataframe\">\n",
       "  <thead>\n",
       "    <tr style=\"text-align: right;\">\n",
       "      <th></th>\n",
       "      <th>book_id</th>\n",
       "      <th>author_id</th>\n",
       "      <th>title</th>\n",
       "      <th>num_pages</th>\n",
       "      <th>publication_date</th>\n",
       "      <th>publisher_id</th>\n",
       "    </tr>\n",
       "  </thead>\n",
       "  <tbody>\n",
       "    <tr>\n",
       "      <th>0</th>\n",
       "      <td>1</td>\n",
       "      <td>546</td>\n",
       "      <td>'Salem's Lot</td>\n",
       "      <td>594</td>\n",
       "      <td>2005-11-01</td>\n",
       "      <td>93</td>\n",
       "    </tr>\n",
       "    <tr>\n",
       "      <th>1</th>\n",
       "      <td>2</td>\n",
       "      <td>465</td>\n",
       "      <td>1 000 Places to See Before You Die</td>\n",
       "      <td>992</td>\n",
       "      <td>2003-05-22</td>\n",
       "      <td>336</td>\n",
       "    </tr>\n",
       "    <tr>\n",
       "      <th>2</th>\n",
       "      <td>3</td>\n",
       "      <td>407</td>\n",
       "      <td>13 Little Blue Envelopes (Little Blue Envelope...</td>\n",
       "      <td>322</td>\n",
       "      <td>2010-12-21</td>\n",
       "      <td>135</td>\n",
       "    </tr>\n",
       "    <tr>\n",
       "      <th>3</th>\n",
       "      <td>4</td>\n",
       "      <td>82</td>\n",
       "      <td>1491: New Revelations of the Americas Before C...</td>\n",
       "      <td>541</td>\n",
       "      <td>2006-10-10</td>\n",
       "      <td>309</td>\n",
       "    </tr>\n",
       "    <tr>\n",
       "      <th>4</th>\n",
       "      <td>5</td>\n",
       "      <td>125</td>\n",
       "      <td>1776</td>\n",
       "      <td>386</td>\n",
       "      <td>2006-07-04</td>\n",
       "      <td>268</td>\n",
       "    </tr>\n",
       "  </tbody>\n",
       "</table>\n",
       "</div>"
      ],
      "text/plain": [
       "   book_id  author_id                                              title  \\\n",
       "0        1        546                                       'Salem's Lot   \n",
       "1        2        465                 1 000 Places to See Before You Die   \n",
       "2        3        407  13 Little Blue Envelopes (Little Blue Envelope...   \n",
       "3        4         82  1491: New Revelations of the Americas Before C...   \n",
       "4        5        125                                               1776   \n",
       "\n",
       "   num_pages publication_date  publisher_id  \n",
       "0        594       2005-11-01            93  \n",
       "1        992       2003-05-22           336  \n",
       "2        322       2010-12-21           135  \n",
       "3        541       2006-10-10           309  \n",
       "4        386       2006-07-04           268  "
      ]
     },
     "execution_count": 3,
     "metadata": {},
     "output_type": "execute_result"
    }
   ],
   "source": [
    "# Imprimir las primeras 5 filas de la tabla `books`\n",
    "# Print the first 5 rows of the 'books' table\n",
    "query = \"\"\"\n",
    "SELECT \n",
    "    *\n",
    "FROM \n",
    "    books \n",
    "LIMIT \n",
    "    5;\n",
    "\"\"\"\n",
    "\n",
    "books = pd.io.sql.read_sql(query, con = engine)\n",
    "books"
   ]
  },
  {
   "cell_type": "markdown",
   "id": "1ffe7ac5",
   "metadata": {},
   "source": [
    "### `Authors`"
   ]
  },
  {
   "cell_type": "code",
   "execution_count": 4,
   "id": "084c87bd",
   "metadata": {},
   "outputs": [
    {
     "data": {
      "text/html": [
       "<div>\n",
       "<style scoped>\n",
       "    .dataframe tbody tr th:only-of-type {\n",
       "        vertical-align: middle;\n",
       "    }\n",
       "\n",
       "    .dataframe tbody tr th {\n",
       "        vertical-align: top;\n",
       "    }\n",
       "\n",
       "    .dataframe thead th {\n",
       "        text-align: right;\n",
       "    }\n",
       "</style>\n",
       "<table border=\"1\" class=\"dataframe\">\n",
       "  <thead>\n",
       "    <tr style=\"text-align: right;\">\n",
       "      <th></th>\n",
       "      <th>author_id</th>\n",
       "      <th>author</th>\n",
       "    </tr>\n",
       "  </thead>\n",
       "  <tbody>\n",
       "    <tr>\n",
       "      <th>0</th>\n",
       "      <td>1</td>\n",
       "      <td>A.S. Byatt</td>\n",
       "    </tr>\n",
       "    <tr>\n",
       "      <th>1</th>\n",
       "      <td>2</td>\n",
       "      <td>Aesop/Laura Harris/Laura Gibbs</td>\n",
       "    </tr>\n",
       "    <tr>\n",
       "      <th>2</th>\n",
       "      <td>3</td>\n",
       "      <td>Agatha Christie</td>\n",
       "    </tr>\n",
       "    <tr>\n",
       "      <th>3</th>\n",
       "      <td>4</td>\n",
       "      <td>Alan Brennert</td>\n",
       "    </tr>\n",
       "    <tr>\n",
       "      <th>4</th>\n",
       "      <td>5</td>\n",
       "      <td>Alan Moore/David   Lloyd</td>\n",
       "    </tr>\n",
       "  </tbody>\n",
       "</table>\n",
       "</div>"
      ],
      "text/plain": [
       "   author_id                          author\n",
       "0          1                      A.S. Byatt\n",
       "1          2  Aesop/Laura Harris/Laura Gibbs\n",
       "2          3                 Agatha Christie\n",
       "3          4                   Alan Brennert\n",
       "4          5        Alan Moore/David   Lloyd"
      ]
     },
     "execution_count": 4,
     "metadata": {},
     "output_type": "execute_result"
    }
   ],
   "source": [
    "# Imprimir las primeras 5 filas de la tabla `authors`\n",
    "# Print the first 5 rows of the 'authors' table\n",
    "query = \"\"\"\n",
    "SELECT \n",
    "    *\n",
    "FROM \n",
    "    authors\n",
    "LIMIT \n",
    "    5;\n",
    "\"\"\"\n",
    "\n",
    "authors = pd.io.sql.read_sql(query, con = engine)\n",
    "authors"
   ]
  },
  {
   "cell_type": "markdown",
   "id": "3bbeee06",
   "metadata": {},
   "source": [
    "### `Publishers`"
   ]
  },
  {
   "cell_type": "code",
   "execution_count": 5,
   "id": "d09429fa",
   "metadata": {},
   "outputs": [
    {
     "data": {
      "text/html": [
       "<div>\n",
       "<style scoped>\n",
       "    .dataframe tbody tr th:only-of-type {\n",
       "        vertical-align: middle;\n",
       "    }\n",
       "\n",
       "    .dataframe tbody tr th {\n",
       "        vertical-align: top;\n",
       "    }\n",
       "\n",
       "    .dataframe thead th {\n",
       "        text-align: right;\n",
       "    }\n",
       "</style>\n",
       "<table border=\"1\" class=\"dataframe\">\n",
       "  <thead>\n",
       "    <tr style=\"text-align: right;\">\n",
       "      <th></th>\n",
       "      <th>publisher_id</th>\n",
       "      <th>publisher</th>\n",
       "    </tr>\n",
       "  </thead>\n",
       "  <tbody>\n",
       "    <tr>\n",
       "      <th>0</th>\n",
       "      <td>1</td>\n",
       "      <td>Ace</td>\n",
       "    </tr>\n",
       "    <tr>\n",
       "      <th>1</th>\n",
       "      <td>2</td>\n",
       "      <td>Ace Book</td>\n",
       "    </tr>\n",
       "    <tr>\n",
       "      <th>2</th>\n",
       "      <td>3</td>\n",
       "      <td>Ace Books</td>\n",
       "    </tr>\n",
       "    <tr>\n",
       "      <th>3</th>\n",
       "      <td>4</td>\n",
       "      <td>Ace Hardcover</td>\n",
       "    </tr>\n",
       "    <tr>\n",
       "      <th>4</th>\n",
       "      <td>5</td>\n",
       "      <td>Addison Wesley Publishing Company</td>\n",
       "    </tr>\n",
       "  </tbody>\n",
       "</table>\n",
       "</div>"
      ],
      "text/plain": [
       "   publisher_id                          publisher\n",
       "0             1                                Ace\n",
       "1             2                           Ace Book\n",
       "2             3                          Ace Books\n",
       "3             4                      Ace Hardcover\n",
       "4             5  Addison Wesley Publishing Company"
      ]
     },
     "execution_count": 5,
     "metadata": {},
     "output_type": "execute_result"
    }
   ],
   "source": [
    "# Imprimir las primeras 5 filas de la tabla `publishers`\n",
    "# Print the first 5 rows of the 'publishers' table\n",
    "query = \"\"\"\n",
    "SELECT \n",
    "    *\n",
    "FROM \n",
    "    publishers\n",
    "LIMIT \n",
    "    5;\n",
    "\"\"\"\n",
    "\n",
    "publishers = pd.io.sql.read_sql(query, con = engine)\n",
    "publishers"
   ]
  },
  {
   "cell_type": "markdown",
   "id": "eafdf690",
   "metadata": {},
   "source": [
    "### `Ratings`"
   ]
  },
  {
   "cell_type": "code",
   "execution_count": 6,
   "id": "95c55ae0",
   "metadata": {},
   "outputs": [
    {
     "data": {
      "text/html": [
       "<div>\n",
       "<style scoped>\n",
       "    .dataframe tbody tr th:only-of-type {\n",
       "        vertical-align: middle;\n",
       "    }\n",
       "\n",
       "    .dataframe tbody tr th {\n",
       "        vertical-align: top;\n",
       "    }\n",
       "\n",
       "    .dataframe thead th {\n",
       "        text-align: right;\n",
       "    }\n",
       "</style>\n",
       "<table border=\"1\" class=\"dataframe\">\n",
       "  <thead>\n",
       "    <tr style=\"text-align: right;\">\n",
       "      <th></th>\n",
       "      <th>rating_id</th>\n",
       "      <th>book_id</th>\n",
       "      <th>username</th>\n",
       "      <th>rating</th>\n",
       "    </tr>\n",
       "  </thead>\n",
       "  <tbody>\n",
       "    <tr>\n",
       "      <th>0</th>\n",
       "      <td>1</td>\n",
       "      <td>1</td>\n",
       "      <td>ryanfranco</td>\n",
       "      <td>4</td>\n",
       "    </tr>\n",
       "    <tr>\n",
       "      <th>1</th>\n",
       "      <td>2</td>\n",
       "      <td>1</td>\n",
       "      <td>grantpatricia</td>\n",
       "      <td>2</td>\n",
       "    </tr>\n",
       "    <tr>\n",
       "      <th>2</th>\n",
       "      <td>3</td>\n",
       "      <td>1</td>\n",
       "      <td>brandtandrea</td>\n",
       "      <td>5</td>\n",
       "    </tr>\n",
       "    <tr>\n",
       "      <th>3</th>\n",
       "      <td>4</td>\n",
       "      <td>2</td>\n",
       "      <td>lorichen</td>\n",
       "      <td>3</td>\n",
       "    </tr>\n",
       "    <tr>\n",
       "      <th>4</th>\n",
       "      <td>5</td>\n",
       "      <td>2</td>\n",
       "      <td>mariokeller</td>\n",
       "      <td>2</td>\n",
       "    </tr>\n",
       "  </tbody>\n",
       "</table>\n",
       "</div>"
      ],
      "text/plain": [
       "   rating_id  book_id       username  rating\n",
       "0          1        1     ryanfranco       4\n",
       "1          2        1  grantpatricia       2\n",
       "2          3        1   brandtandrea       5\n",
       "3          4        2       lorichen       3\n",
       "4          5        2    mariokeller       2"
      ]
     },
     "execution_count": 6,
     "metadata": {},
     "output_type": "execute_result"
    }
   ],
   "source": [
    "# Imprimir las primeras 5 filas de la tabla `ratings`\n",
    "# Print the first 5 rows of the 'ratings' table\n",
    "query = \"\"\"\n",
    "SELECT \n",
    "    *\n",
    "FROM \n",
    "    ratings\n",
    "LIMIT \n",
    "    5;\n",
    "\"\"\"\n",
    "\n",
    "ratings = pd.io.sql.read_sql(query, con = engine)\n",
    "ratings"
   ]
  },
  {
   "cell_type": "markdown",
   "id": "e2a1f97d",
   "metadata": {},
   "source": [
    "### `Reviews`"
   ]
  },
  {
   "cell_type": "code",
   "execution_count": 7,
   "id": "930bdc64",
   "metadata": {},
   "outputs": [
    {
     "data": {
      "text/html": [
       "<div>\n",
       "<style scoped>\n",
       "    .dataframe tbody tr th:only-of-type {\n",
       "        vertical-align: middle;\n",
       "    }\n",
       "\n",
       "    .dataframe tbody tr th {\n",
       "        vertical-align: top;\n",
       "    }\n",
       "\n",
       "    .dataframe thead th {\n",
       "        text-align: right;\n",
       "    }\n",
       "</style>\n",
       "<table border=\"1\" class=\"dataframe\">\n",
       "  <thead>\n",
       "    <tr style=\"text-align: right;\">\n",
       "      <th></th>\n",
       "      <th>review_id</th>\n",
       "      <th>book_id</th>\n",
       "      <th>username</th>\n",
       "      <th>text</th>\n",
       "    </tr>\n",
       "  </thead>\n",
       "  <tbody>\n",
       "    <tr>\n",
       "      <th>0</th>\n",
       "      <td>1</td>\n",
       "      <td>1</td>\n",
       "      <td>brandtandrea</td>\n",
       "      <td>Mention society tell send professor analysis. ...</td>\n",
       "    </tr>\n",
       "    <tr>\n",
       "      <th>1</th>\n",
       "      <td>2</td>\n",
       "      <td>1</td>\n",
       "      <td>ryanfranco</td>\n",
       "      <td>Foot glass pretty audience hit themselves. Amo...</td>\n",
       "    </tr>\n",
       "    <tr>\n",
       "      <th>2</th>\n",
       "      <td>3</td>\n",
       "      <td>2</td>\n",
       "      <td>lorichen</td>\n",
       "      <td>Listen treat keep worry. Miss husband tax but ...</td>\n",
       "    </tr>\n",
       "    <tr>\n",
       "      <th>3</th>\n",
       "      <td>4</td>\n",
       "      <td>3</td>\n",
       "      <td>johnsonamanda</td>\n",
       "      <td>Finally month interesting blue could nature cu...</td>\n",
       "    </tr>\n",
       "    <tr>\n",
       "      <th>4</th>\n",
       "      <td>5</td>\n",
       "      <td>3</td>\n",
       "      <td>scotttamara</td>\n",
       "      <td>Nation purpose heavy give wait song will. List...</td>\n",
       "    </tr>\n",
       "  </tbody>\n",
       "</table>\n",
       "</div>"
      ],
      "text/plain": [
       "   review_id  book_id       username  \\\n",
       "0          1        1   brandtandrea   \n",
       "1          2        1     ryanfranco   \n",
       "2          3        2       lorichen   \n",
       "3          4        3  johnsonamanda   \n",
       "4          5        3    scotttamara   \n",
       "\n",
       "                                                text  \n",
       "0  Mention society tell send professor analysis. ...  \n",
       "1  Foot glass pretty audience hit themselves. Amo...  \n",
       "2  Listen treat keep worry. Miss husband tax but ...  \n",
       "3  Finally month interesting blue could nature cu...  \n",
       "4  Nation purpose heavy give wait song will. List...  "
      ]
     },
     "execution_count": 7,
     "metadata": {},
     "output_type": "execute_result"
    }
   ],
   "source": [
    "# Imprimir las primeras 5 filas de la tabla `reviews`\n",
    "# Print the first 5 rows of the 'reviews' table\n",
    "query = \"\"\"\n",
    "SELECT \n",
    "    *\n",
    "FROM \n",
    "    reviews\n",
    "LIMIT \n",
    "    5;\n",
    "\"\"\"\n",
    "\n",
    "reviews = pd.io.sql.read_sql(query, con = engine)\n",
    "reviews"
   ]
  },
  {
   "cell_type": "markdown",
   "id": "384dbe65",
   "metadata": {},
   "source": [
    "## Consultas SQL / SQL queries"
   ]
  },
  {
   "cell_type": "markdown",
   "id": "245686b9",
   "metadata": {},
   "source": [
    "### Encontrar el número de libros publicados después del 1 de enero de 2000 / Find the number of books published after January 1, 2000"
   ]
  },
  {
   "cell_type": "code",
   "execution_count": 8,
   "id": "f9e0622e",
   "metadata": {},
   "outputs": [
    {
     "data": {
      "text/html": [
       "<div>\n",
       "<style scoped>\n",
       "    .dataframe tbody tr th:only-of-type {\n",
       "        vertical-align: middle;\n",
       "    }\n",
       "\n",
       "    .dataframe tbody tr th {\n",
       "        vertical-align: top;\n",
       "    }\n",
       "\n",
       "    .dataframe thead th {\n",
       "        text-align: right;\n",
       "    }\n",
       "</style>\n",
       "<table border=\"1\" class=\"dataframe\">\n",
       "  <thead>\n",
       "    <tr style=\"text-align: right;\">\n",
       "      <th></th>\n",
       "      <th>num_books</th>\n",
       "    </tr>\n",
       "  </thead>\n",
       "  <tbody>\n",
       "    <tr>\n",
       "      <th>0</th>\n",
       "      <td>819</td>\n",
       "    </tr>\n",
       "  </tbody>\n",
       "</table>\n",
       "</div>"
      ],
      "text/plain": [
       "   num_books\n",
       "0        819"
      ]
     },
     "execution_count": 8,
     "metadata": {},
     "output_type": "execute_result"
    }
   ],
   "source": [
    "# Contar el número de libros publicados desde el 1 de enero de 2000\n",
    "# Count the number of books published since January 1, 2000\n",
    "query = \"\"\"\n",
    "SELECT \n",
    "    COUNT (*) as num_books\n",
    "FROM \n",
    "    books\n",
    "WHERE \n",
    "    publication_date > '2000-01-01';\n",
    "\"\"\"\n",
    "\n",
    "books_after_2000 = pd.io.sql.read_sql(query, con = engine)\n",
    "books_after_2000"
   ]
  },
  {
   "cell_type": "markdown",
   "id": "bae19ea4",
   "metadata": {},
   "source": [
    "### Encontrar el número de reseñas de usuarios y la calificación promedio para cada libro / Find the number of user reviews and the average rating for each book"
   ]
  },
  {
   "cell_type": "code",
   "execution_count": 9,
   "id": "b8e45f10",
   "metadata": {},
   "outputs": [
    {
     "data": {
      "text/html": [
       "<div>\n",
       "<style scoped>\n",
       "    .dataframe tbody tr th:only-of-type {\n",
       "        vertical-align: middle;\n",
       "    }\n",
       "\n",
       "    .dataframe tbody tr th {\n",
       "        vertical-align: top;\n",
       "    }\n",
       "\n",
       "    .dataframe thead th {\n",
       "        text-align: right;\n",
       "    }\n",
       "</style>\n",
       "<table border=\"1\" class=\"dataframe\">\n",
       "  <thead>\n",
       "    <tr style=\"text-align: right;\">\n",
       "      <th></th>\n",
       "      <th>title</th>\n",
       "      <th>num_review</th>\n",
       "      <th>avg_rating</th>\n",
       "    </tr>\n",
       "  </thead>\n",
       "  <tbody>\n",
       "    <tr>\n",
       "      <th>0</th>\n",
       "      <td>The Count of Monte Cristo</td>\n",
       "      <td>115</td>\n",
       "      <td>4.22</td>\n",
       "    </tr>\n",
       "    <tr>\n",
       "      <th>1</th>\n",
       "      <td>Count Zero (Sprawl  #2)</td>\n",
       "      <td>4</td>\n",
       "      <td>2.50</td>\n",
       "    </tr>\n",
       "    <tr>\n",
       "      <th>2</th>\n",
       "      <td>The Botany of Desire: A Plant's-Eye View of th...</td>\n",
       "      <td>4</td>\n",
       "      <td>3.50</td>\n",
       "    </tr>\n",
       "    <tr>\n",
       "      <th>3</th>\n",
       "      <td>The Poisonwood Bible</td>\n",
       "      <td>110</td>\n",
       "      <td>4.36</td>\n",
       "    </tr>\n",
       "    <tr>\n",
       "      <th>4</th>\n",
       "      <td>The Canterbury Tales</td>\n",
       "      <td>18</td>\n",
       "      <td>3.33</td>\n",
       "    </tr>\n",
       "    <tr>\n",
       "      <th>...</th>\n",
       "      <td>...</td>\n",
       "      <td>...</td>\n",
       "      <td>...</td>\n",
       "    </tr>\n",
       "    <tr>\n",
       "      <th>988</th>\n",
       "      <td>Of Love and Other Demons</td>\n",
       "      <td>4</td>\n",
       "      <td>4.50</td>\n",
       "    </tr>\n",
       "    <tr>\n",
       "      <th>989</th>\n",
       "      <td>In the Heart of the Sea: The Tragedy of the Wh...</td>\n",
       "      <td>9</td>\n",
       "      <td>3.33</td>\n",
       "    </tr>\n",
       "    <tr>\n",
       "      <th>990</th>\n",
       "      <td>Welcome to Temptation (Dempseys  #1)</td>\n",
       "      <td>4</td>\n",
       "      <td>5.00</td>\n",
       "    </tr>\n",
       "    <tr>\n",
       "      <th>991</th>\n",
       "      <td>World's End (The Sandman  #8)</td>\n",
       "      <td>4</td>\n",
       "      <td>4.50</td>\n",
       "    </tr>\n",
       "    <tr>\n",
       "      <th>992</th>\n",
       "      <td>Holes (Holes  #1)</td>\n",
       "      <td>155</td>\n",
       "      <td>3.97</td>\n",
       "    </tr>\n",
       "  </tbody>\n",
       "</table>\n",
       "<p>993 rows × 3 columns</p>\n",
       "</div>"
      ],
      "text/plain": [
       "                                                 title  num_review  avg_rating\n",
       "0                            The Count of Monte Cristo         115        4.22\n",
       "1                              Count Zero (Sprawl  #2)           4        2.50\n",
       "2    The Botany of Desire: A Plant's-Eye View of th...           4        3.50\n",
       "3                                 The Poisonwood Bible         110        4.36\n",
       "4                                 The Canterbury Tales          18        3.33\n",
       "..                                                 ...         ...         ...\n",
       "988                           Of Love and Other Demons           4        4.50\n",
       "989  In the Heart of the Sea: The Tragedy of the Wh...           9        3.33\n",
       "990               Welcome to Temptation (Dempseys  #1)           4        5.00\n",
       "991                      World's End (The Sandman  #8)           4        4.50\n",
       "992                                  Holes (Holes  #1)         155        3.97\n",
       "\n",
       "[993 rows x 3 columns]"
      ]
     },
     "execution_count": 9,
     "metadata": {},
     "output_type": "execute_result"
    }
   ],
   "source": [
    "# Unir la tablas `books`, `reviews` y `ratings` \n",
    "# Join the 'books', 'reviews', and 'ratings' tables \n",
    "\n",
    "# Contar el número de reseñas y sacar el promedio de las calificaciones por libro \n",
    "# Count the number of reviews and calculate the average rating per book\n",
    "query = \"\"\"\n",
    "SELECT \n",
    "    books.title AS title,\n",
    "    COUNT(reviews.text) AS num_review,\n",
    "    ROUND(AVG (ratings.rating), 2) AS avg_rating\n",
    "FROM\n",
    "    books\n",
    "JOIN reviews ON reviews.book_id = books.book_id\n",
    "JOIN ratings ON ratings.book_id = books.book_id\n",
    "GROUP BY\n",
    "    books.title;\n",
    "\"\"\"\n",
    "\n",
    "reviews_and_ratings = pd.io.sql.read_sql(query, con = engine)\n",
    "reviews_and_ratings"
   ]
  },
  {
   "cell_type": "markdown",
   "id": "a93273f5",
   "metadata": {},
   "source": [
    "### Identificar la editorial que ha publicado el mayor número de libros / Identify the publisher that has published the most books\n",
    "Se tomarán en cuenta libros con más de 50 páginas para excluir folletos y publicaciones similares del análisis / Only books with more than 50 pages will be considered to exclude pamphlets and similar publications from the analysis."
   ]
  },
  {
   "cell_type": "code",
   "execution_count": 10,
   "id": "03510b36",
   "metadata": {},
   "outputs": [
    {
     "data": {
      "text/html": [
       "<div>\n",
       "<style scoped>\n",
       "    .dataframe tbody tr th:only-of-type {\n",
       "        vertical-align: middle;\n",
       "    }\n",
       "\n",
       "    .dataframe tbody tr th {\n",
       "        vertical-align: top;\n",
       "    }\n",
       "\n",
       "    .dataframe thead th {\n",
       "        text-align: right;\n",
       "    }\n",
       "</style>\n",
       "<table border=\"1\" class=\"dataframe\">\n",
       "  <thead>\n",
       "    <tr style=\"text-align: right;\">\n",
       "      <th></th>\n",
       "      <th>publisher</th>\n",
       "      <th>num_books</th>\n",
       "    </tr>\n",
       "  </thead>\n",
       "  <tbody>\n",
       "    <tr>\n",
       "      <th>0</th>\n",
       "      <td>Penguin Books</td>\n",
       "      <td>42</td>\n",
       "    </tr>\n",
       "  </tbody>\n",
       "</table>\n",
       "</div>"
      ],
      "text/plain": [
       "       publisher  num_books\n",
       "0  Penguin Books         42"
      ]
     },
     "execution_count": 10,
     "metadata": {},
     "output_type": "execute_result"
    }
   ],
   "source": [
    "# Contar el número de libros publicados por editorial\n",
    "# Count the number of books published by each publisher\n",
    "query = \"\"\"\n",
    "SELECT \n",
    "    publishers.publisher,\n",
    "    COUNT(books.title) AS num_books\n",
    "FROM\n",
    "    books\n",
    "JOIN publishers ON publishers.publisher_id = books.publisher_id\n",
    "WHERE\n",
    "    books.num_pages > 50\n",
    "GROUP BY\n",
    "    publishers.publisher\n",
    "ORDER BY \n",
    "    num_books DESC\n",
    "LIMIT \n",
    "    1;\n",
    "\"\"\"\n",
    "\n",
    "publisher = pd.io.sql.read_sql(query, con = engine)\n",
    "publisher"
   ]
  },
  {
   "cell_type": "markdown",
   "id": "81d7befb",
   "metadata": {},
   "source": [
    "### Identificar al autor que tiene la más alta calificación promedio del libro / Identify the author with the highest average book rating\n",
    "Solo se analizan los libros con al menos 50 calificaciones / Only books with at least 50 ratings will be considered."
   ]
  },
  {
   "cell_type": "code",
   "execution_count": 11,
   "id": "b790a307",
   "metadata": {},
   "outputs": [
    {
     "data": {
      "text/html": [
       "<div>\n",
       "<style scoped>\n",
       "    .dataframe tbody tr th:only-of-type {\n",
       "        vertical-align: middle;\n",
       "    }\n",
       "\n",
       "    .dataframe tbody tr th {\n",
       "        vertical-align: top;\n",
       "    }\n",
       "\n",
       "    .dataframe thead th {\n",
       "        text-align: right;\n",
       "    }\n",
       "</style>\n",
       "<table border=\"1\" class=\"dataframe\">\n",
       "  <thead>\n",
       "    <tr style=\"text-align: right;\">\n",
       "      <th></th>\n",
       "      <th>author</th>\n",
       "      <th>avg_rating</th>\n",
       "      <th>num_rating</th>\n",
       "    </tr>\n",
       "  </thead>\n",
       "  <tbody>\n",
       "    <tr>\n",
       "      <th>0</th>\n",
       "      <td>Diana Gabaldon</td>\n",
       "      <td>4.3</td>\n",
       "      <td>50</td>\n",
       "    </tr>\n",
       "  </tbody>\n",
       "</table>\n",
       "</div>"
      ],
      "text/plain": [
       "           author  avg_rating  num_rating\n",
       "0  Diana Gabaldon         4.3          50"
      ]
     },
     "execution_count": 11,
     "metadata": {},
     "output_type": "execute_result"
    }
   ],
   "source": [
    "query = \"\"\"\n",
    "SELECT\n",
    "    authors.author,\n",
    "    AVG(ratings.rating) AS avg_rating,\n",
    "    COUNT(ratings.rating) AS num_rating\n",
    "FROM\n",
    "    books\n",
    "JOIN \n",
    "    authors ON authors.author_id = books.author_id\n",
    "JOIN \n",
    "    ratings ON ratings.book_id = books.book_id\n",
    "GROUP BY\n",
    "    authors.author\n",
    "HAVING \n",
    "    COUNT(ratings.rating) >= 50\n",
    "ORDER BY\n",
    "    avg_rating DESC\n",
    "LIMIT\n",
    "    1;\n",
    "\"\"\"\n",
    "\n",
    "author = pd.io.sql.read_sql(query, con = engine)\n",
    "author"
   ]
  },
  {
   "cell_type": "markdown",
   "id": "3c212dc2",
   "metadata": {},
   "source": [
    "### Encontrar el número promedio de reseñas de texto entre los usuarios que calificaron más de 50 libros / Find the average number of text reviews among users who rated more than 50 books"
   ]
  },
  {
   "cell_type": "code",
   "execution_count": 12,
   "id": "3ea93c14",
   "metadata": {},
   "outputs": [
    {
     "data": {
      "text/html": [
       "<div>\n",
       "<style scoped>\n",
       "    .dataframe tbody tr th:only-of-type {\n",
       "        vertical-align: middle;\n",
       "    }\n",
       "\n",
       "    .dataframe tbody tr th {\n",
       "        vertical-align: top;\n",
       "    }\n",
       "\n",
       "    .dataframe thead th {\n",
       "        text-align: right;\n",
       "    }\n",
       "</style>\n",
       "<table border=\"1\" class=\"dataframe\">\n",
       "  <thead>\n",
       "    <tr style=\"text-align: right;\">\n",
       "      <th></th>\n",
       "      <th>avg_reviews</th>\n",
       "    </tr>\n",
       "  </thead>\n",
       "  <tbody>\n",
       "    <tr>\n",
       "      <th>0</th>\n",
       "      <td>24.33</td>\n",
       "    </tr>\n",
       "  </tbody>\n",
       "</table>\n",
       "</div>"
      ],
      "text/plain": [
       "   avg_reviews\n",
       "0        24.33"
      ]
     },
     "execution_count": 12,
     "metadata": {},
     "output_type": "execute_result"
    }
   ],
   "source": [
    "# Promedio de reseñas entre los usuarios que calificaron más de 50 libros\n",
    "# Average number of reviews among users who rated more than 50 books\n",
    "query = \"\"\"\n",
    "WITH UsersWithMoreThan50Ratings AS\n",
    "    (SELECT\n",
    "        username,\n",
    "        COUNT(rating)\n",
    "    FROM\n",
    "        ratings\n",
    "    GROUP BY\n",
    "        username\n",
    "    HAVING\n",
    "        COUNT(rating) > 50)\n",
    "SELECT \n",
    "    ROUND(AVG(num_reviews), 2) AS avg_reviews\n",
    "FROM\n",
    "    (SELECT \n",
    "        reviews.username,\n",
    "        COUNT(reviews.text) AS num_reviews\n",
    "    FROM\n",
    "        reviews\n",
    "    JOIN \n",
    "        UsersWithMoreThan50Ratings ON UsersWithMoreThan50Ratings.username = reviews.username\n",
    "    GROUP BY\n",
    "        reviews.username) \n",
    "    AS review_filtered;\n",
    "\"\"\"\n",
    "\n",
    "avg_review = pd.io.sql.read_sql(query, con = engine)\n",
    "avg_review"
   ]
  },
  {
   "cell_type": "markdown",
   "id": "f1956e77",
   "metadata": {},
   "source": [
    "## Conclusiones / Conclusions"
   ]
  },
  {
   "cell_type": "markdown",
   "id": "3e2afc02",
   "metadata": {},
   "source": [
    "- Se publicaron un total de 819 libros después del 1 de enero de 2000 / A total of `819` books were published after January 1, 2000.\n",
    "- La editorial `Penguin Books` ha publicado el mayor número de libros, con `42` libros, lo que refleja su fuerte presencia en el mercado / The publisher `Penguin Books` has published the highest number of books, with `42` books, reflecting its strong presence in the market.\n",
    "- La autora `Diana Gabaldon` tiene la calificación promedio más alta de `4.3` en sus libros, lo que muestra que sus obras son altamente apreciadas por los lectores / The author `Diana Gabaldon` has the highest average book rating of `4.3`, showing her books are highly appreciated by readers.\n",
    "- El número promedio de reseñas de texto proporcionadas por los usuarios que calificaron más de 50 libros es de `24.33`, lo que sugiere que estos suarios están participando activamente con reseñas / The average number of text reviews provided by users who rated more than 50 books is `24.33`, suggesting that these users are actively engaging in reviews."
   ]
  }
 ],
 "metadata": {
  "ExecuteTimeLog": [
   {
    "duration": 408,
    "start_time": "2024-11-29T01:33:42.878Z"
   },
   {
    "duration": 2,
    "start_time": "2024-11-29T01:33:53.464Z"
   },
   {
    "duration": 2779,
    "start_time": "2024-11-29T01:34:44.254Z"
   },
   {
    "duration": 794,
    "start_time": "2024-11-29T01:35:26.448Z"
   },
   {
    "duration": 793,
    "start_time": "2024-11-29T01:35:58.561Z"
   },
   {
    "duration": 796,
    "start_time": "2024-11-29T01:36:30.798Z"
   },
   {
    "duration": 796,
    "start_time": "2024-11-29T01:37:02.080Z"
   },
   {
    "duration": 793,
    "start_time": "2024-11-29T01:37:49.378Z"
   },
   {
    "duration": 1071,
    "start_time": "2024-11-29T01:38:54.710Z"
   },
   {
    "duration": 796,
    "start_time": "2024-11-29T01:40:54.847Z"
   },
   {
    "duration": 799,
    "start_time": "2024-11-29T01:41:37.977Z"
   },
   {
    "duration": 797,
    "start_time": "2024-11-29T01:42:31.778Z"
   }
  ],
  "kernelspec": {
   "display_name": "Python 3 (ipykernel)",
   "language": "python",
   "name": "python3"
  },
  "language_info": {
   "codemirror_mode": {
    "name": "ipython",
    "version": 3
   },
   "file_extension": ".py",
   "mimetype": "text/x-python",
   "name": "python",
   "nbconvert_exporter": "python",
   "pygments_lexer": "ipython3",
   "version": "3.9.19"
  },
  "toc": {
   "base_numbering": 1,
   "nav_menu": {},
   "number_sections": true,
   "sideBar": true,
   "skip_h1_title": true,
   "title_cell": "Table of Contents",
   "title_sidebar": "Contents",
   "toc_cell": false,
   "toc_position": {},
   "toc_section_display": true,
   "toc_window_display": false
  }
 },
 "nbformat": 4,
 "nbformat_minor": 5
}
